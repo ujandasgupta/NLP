{
 "cells": [
  {
   "cell_type": "code",
   "execution_count": 1,
   "metadata": {},
   "outputs": [],
   "source": [
    "file = open(\"/Users/ujandasgupta/Desktop/NLP/CleanData1/corpusFull.txt\", \"r\")"
   ]
  },
  {
   "cell_type": "code",
   "execution_count": 2,
   "metadata": {},
   "outputs": [],
   "source": [
    "from tqdm import tqdm"
   ]
  },
  {
   "cell_type": "code",
   "execution_count": 3,
   "metadata": {},
   "outputs": [],
   "source": [
    "import numpy as np\n",
    "import matplotlib.pyplot as plt\n",
    "from sklearn.metrics.pairwise import cosine_similarity\n",
    "from sklearn.decomposition import TruncatedSVD\n",
    "from sklearn.preprocessing import MinMaxScaler\n",
    "from collections import defaultdict, Counter\n",
    "from scipy.sparse import lil_matrix\n",
    "from sklearn.preprocessing import normalize\n",
    "from sklearn.metrics.pairwise import cosine_similarity\n",
    "import matplotlib.pyplot as plt\n",
    "from tqdm import tqdm"
   ]
  },
  {
   "cell_type": "code",
   "execution_count": 4,
   "metadata": {},
   "outputs": [],
   "source": [
    "corpus =file.read()"
   ]
  },
  {
   "attachments": {},
   "cell_type": "markdown",
   "metadata": {},
   "source": [
    "## Step 1: Co-occurrence Matrix"
   ]
  },
  {
   "cell_type": "code",
   "execution_count": 5,
   "metadata": {},
   "outputs": [
    {
     "name": "stderr",
     "output_type": "stream",
     "text": [
      "145386226it [09:26, 256738.37it/s]\n"
     ]
    }
   ],
   "source": [
    "import numpy as np\n",
    "from collections import defaultdict, Counter\n",
    "from scipy.sparse import lil_matrix\n",
    "from sklearn.decomposition import TruncatedSVD\n",
    "from sklearn.preprocessing import normalize\n",
    "from sklearn.metrics.pairwise import cosine_similarity\n",
    "import matplotlib.pyplot as plt\n",
    "\n",
    "def create_cooccurrence_matrix(corpus, window_size=5, vocab_size=5000):\n",
    "    # Tokenize and get vocabulary\n",
    "    words = corpus.split()\n",
    "    vocab = [word for word, _ in Counter(words).most_common(vocab_size)]\n",
    "    word2id = {word: i for i, word in enumerate(vocab)}\n",
    "    \n",
    "    # Create co-occurrence matrix\n",
    "    matrix = defaultdict(int)\n",
    "    for i, word in tqdm(enumerate(words)):\n",
    "        if word in word2id:\n",
    "            for j in range(max(0, i - window_size), min(len(words), i + window_size + 1)):\n",
    "                if i != j and words[j] in word2id:\n",
    "                    matrix[(word2id[word], word2id[words[j]])] += 1\n",
    "    # return lil_matrix((vocab_size, vocab_size), dtype=np.float32).todok(), word2id\n",
    "\n",
    "    return matrix, word2id\n",
    "\n",
    "matrix, word2id = create_cooccurrence_matrix(corpus)\n"
   ]
  },
  {
   "cell_type": "code",
   "execution_count": 6,
   "metadata": {},
   "outputs": [],
   "source": [
    "coo = [[0 for i in range(5000)] for j in range(5000)]\n",
    "\n",
    "for i in range(5000):\n",
    "    for j in range(5000):\n",
    "        if (i,j) in matrix.keys():\n",
    "            coo[i][j] += matrix[(i,j)]"
   ]
  },
  {
   "cell_type": "code",
   "execution_count": 8,
   "metadata": {},
   "outputs": [],
   "source": [
    "matrix = np.array(coo)"
   ]
  },
  {
   "attachments": {},
   "cell_type": "markdown",
   "metadata": {},
   "source": [
    "## Step 2: Transform to Correlation Matrix"
   ]
  },
  {
   "cell_type": "code",
   "execution_count": 10,
   "metadata": {},
   "outputs": [],
   "source": [
    "from scipy.sparse import csr_matrix\n",
    "\n",
    "def compute_correlation(matrix):\n",
    "    # Convert to a compressed sparse row (CSR) matrix for efficient arithmetic operations\n",
    "    if not isinstance(matrix, csr_matrix):\n",
    "        matrix = csr_matrix(matrix)\n",
    "    \n",
    "    # Compute the sum of all elements in the matrix for normalization\n",
    "    total_sum = matrix.sum()\n",
    "    \n",
    "    # Compute row sums and column sums\n",
    "    row_sums = matrix.sum(axis=1)\n",
    "    col_sums = matrix.sum(axis=0)\n",
    "    \n",
    "    # Calculate the joint probability matrix\n",
    "    joint_prob_matrix = matrix / total_sum\n",
    "    \n",
    "    # Calculate the word and context probabilities\n",
    "    word_prob = row_sums / total_sum\n",
    "    context_prob = col_sums / total_sum\n",
    "    \n",
    "    # Make sure word_prob is a column vector and context_prob is a row vector\n",
    "    word_prob = np.array(word_prob).flatten()\n",
    "    context_prob = np.array(context_prob).flatten()\n",
    "    \n",
    "    # Calculate the expected values for independent occurrences\n",
    "    expected_matrix = np.outer(word_prob, context_prob)\n",
    "    \n",
    "    # Compute the correlation matrix (element-wise subtraction and division)\n",
    "    # To avoid division by zero, a small value epsilon is added to the denominator\n",
    "    epsilon = 1e-10\n",
    "    numerator = joint_prob_matrix - expected_matrix\n",
    "    word_prob_std = np.sqrt(word_prob - np.square(word_prob))\n",
    "    context_prob_std = np.sqrt(context_prob - np.square(context_prob))\n",
    "    denominator = np.outer(word_prob_std, context_prob_std) + epsilon\n",
    "\n",
    "    # Flatten the numerator and denominator to perform element-wise division\n",
    "    numerator = numerator.flatten()\n",
    "    denominator = denominator.flatten()\n",
    "\n",
    "    # Reshape the result back to the original matrix shape after division\n",
    "    correlation_matrix = (numerator / denominator).reshape(matrix.shape)\n",
    "\n",
    "    # Remove negative values by setting them to zero\n",
    "    correlation_matrix = np.maximum(correlation_matrix, 0)\n",
    "    \n",
    "    return correlation_matrix\n"
   ]
  },
  {
   "cell_type": "code",
   "execution_count": 11,
   "metadata": {},
   "outputs": [],
   "source": [
    "matrix = compute_correlation(matrix)\n"
   ]
  },
  {
   "attachments": {},
   "cell_type": "markdown",
   "metadata": {},
   "source": [
    "## Step 3: Apply SVD"
   ]
  },
  {
   "cell_type": "code",
   "execution_count": 13,
   "metadata": {},
   "outputs": [],
   "source": [
    "from sklearn.decomposition import TruncatedSVD\n",
    "from sklearn.preprocessing import normalize\n",
    "\n",
    "def apply_svd(matrix, dim=200):\n",
    "    # Ensure the matrix is a regular NumPy array, not np.matrix\n",
    "    matrix = np.asarray(matrix)\n",
    "    \n",
    "    svd = TruncatedSVD(n_components=dim)\n",
    "    reduced_matrix = svd.fit_transform(matrix)\n",
    "    \n",
    "    # Normalize the reduced matrix\n",
    "    return normalize(reduced_matrix)"
   ]
  },
  {
   "cell_type": "code",
   "execution_count": 14,
   "metadata": {},
   "outputs": [],
   "source": [
    "embeddings = apply_svd(matrix)"
   ]
  },
  {
   "attachments": {},
   "cell_type": "markdown",
   "metadata": {},
   "source": [
    "### Step (a): Identify 5 nouns and generate similar words"
   ]
  },
  {
   "cell_type": "code",
   "execution_count": 15,
   "metadata": {},
   "outputs": [],
   "source": [
    "def find_similar_words(embedding, word2id, target_word, num_similar=5):\n",
    "    target_vector = embedding[word2id[target_word]]\n",
    "    similarities = cosine_similarity(embedding, [target_vector])\n",
    "    similar_word_indices = similarities[:, 0].argsort()[-num_similar-1:-1][::-1]\n",
    "    return [list(word2id.keys())[i] for i in similar_word_indices]\n"
   ]
  },
  {
   "cell_type": "code",
   "execution_count": 16,
   "metadata": {},
   "outputs": [
    {
     "name": "stdout",
     "output_type": "stream",
     "text": [
      "{'football': ['soccer', 'football.', 'premier', 'nfl.', 'f.c.'], 'town': ['settlement', 'county.', 'village', 'ghost', 'rural'], 'group': ['collective', 'duo', 'group.', 'trio', 'soul'], 'singer': ['musician', 'songwriter', 'composer', 'singersongwriter', 'performer'], 'village': ['municipality', 'town', 'district', 'rural', 'turkey.']}\n"
     ]
    }
   ],
   "source": [
    "nouns = ['football', 'town', 'group', 'singer', 'village']\n",
    "similar_words_dict = {noun: find_similar_words(embeddings, word2id, noun) for noun in nouns}\n",
    "print(similar_words_dict)"
   ]
  },
  {
   "attachments": {},
   "cell_type": "markdown",
   "metadata": {},
   "source": [
    "### Step (b): Choose a word with a good set of similar words"
   ]
  },
  {
   "attachments": {},
   "cell_type": "markdown",
   "metadata": {},
   "source": [
    "#### Based on the output, let's assume 'group' has a good set of similar words."
   ]
  },
  {
   "attachments": {},
   "cell_type": "markdown",
   "metadata": {},
   "source": [
    "### Step (c): Select the top 5 similar words and calculate cosine distance"
   ]
  },
  {
   "cell_type": "code",
   "execution_count": 17,
   "metadata": {},
   "outputs": [
    {
     "name": "stdout",
     "output_type": "stream",
     "text": [
      "['collective', 'duo', 'group.', 'trio', 'soul']\n",
      "[0.75352149 0.71967604 0.67446485 0.61803428 0.59739554]\n"
     ]
    }
   ],
   "source": [
    "chosen_word = 'group'\n",
    "similar_words = find_similar_words(embeddings, word2id, chosen_word, 5)\n",
    "similarities = cosine_similarity([embeddings[word2id[chosen_word]]], [embeddings[word2id[word]] for word in similar_words])\n",
    "\n",
    "print(similar_words)\n",
    "print(similarities[0])\n"
   ]
  },
  {
   "attachments": {},
   "cell_type": "markdown",
   "metadata": {},
   "source": [
    "### Step (d): Take the first 200 elements\n",
    "\n",
    "#### Given the dimension is reduced to 200 using SVD, we already have vectors with 200 elements."
   ]
  },
  {
   "attachments": {},
   "cell_type": "markdown",
   "metadata": {},
   "source": [
    "### Step (e): Normalize between [0-255]"
   ]
  },
  {
   "cell_type": "code",
   "execution_count": 18,
   "metadata": {},
   "outputs": [],
   "source": [
    "def normalize_to_byte_range(vector):\n",
    "    min_val = np.min(vector)\n",
    "    return (255.0 * (vector - min_val) / (np.max(vector) - min_val)).astype(int)\n",
    "\n",
    "normalized_vectors = {word: normalize_to_byte_range(embeddings[word2id[word]]) for word in [chosen_word] + similar_words}\n"
   ]
  },
  {
   "cell_type": "code",
   "execution_count": 19,
   "metadata": {},
   "outputs": [
    {
     "data": {
      "text/plain": [
       "array([126, 255,  77,  54,  71, 144,   7, 110, 103,  86,  81,  70,  84,\n",
       "        81,  65, 130,  14,  82, 186,  47,  40, 116, 162,   0,  17, 129,\n",
       "        97,  96,  63, 151,  93, 102,  60,  97,  82, 152,  61, 165,  36,\n",
       "        45,  22,  82,  96,  60,  86,  31,  84,  94, 117,  34,  84, 137,\n",
       "        80,  40, 122,  36, 115,  92,  82,  84,  78,  79,  63,  85,  85,\n",
       "        84,  87, 110,  77,  93,  82, 106, 105,  80,  80,  76,  88,  84,\n",
       "        91,  75, 121, 109,  83,  58,  88,  66,  99,  83,  76,  79,  72,\n",
       "        64,  86, 100, 127,  83,  74,  83,  56,  68,  83, 103,  98,  74,\n",
       "        32,  84,  71, 105,  84,  86,  84, 122,  63,  73,  79,  95,  71,\n",
       "        86, 105,  88,  95, 171,  86, 106,  84, 118,  67,  54,  24,  54,\n",
       "        84,  77,  69,  84,  65,  86,  87,  31,  77,  18,  89,  71,  80,\n",
       "        74,  76,  60,  96,  76,  89,  85,  98, 100,  71,  79,  76, 116,\n",
       "        84, 104, 105,  81, 140,  70,  73,  93,  65, 120,  65,  89, 100,\n",
       "        86,  79,  52,  71,  85, 106,  71, 116,  91,  90,  93,  91,  90,\n",
       "        95,  91, 106, 144,  46,  99,  80, 120,  96,  67,  84,  82,  67,\n",
       "        80,  98,  83,  74,  99])"
      ]
     },
     "execution_count": 19,
     "metadata": {},
     "output_type": "execute_result"
    }
   ],
   "source": [
    "normalized_vectors[chosen_word]"
   ]
  },
  {
   "attachments": {},
   "cell_type": "markdown",
   "metadata": {},
   "source": [
    "### Step (f): Visualization"
   ]
  },
  {
   "cell_type": "code",
   "execution_count": 25,
   "metadata": {},
   "outputs": [
    {
     "data": {
      "image/png": "[encoded data removed]",
      "text/plain": [
       "<Figure size 1000x600 with 2 Axes>"
      ]
     },
     "metadata": {},
     "output_type": "display_data"
    }
   ],
   "source": [
    "import matplotlib.pyplot as plt\n",
    "import numpy as np\n",
    "\n",
    "def plot_similarity_heatmap(normalized_vectors, chosen_word, similar_words):\n",
    "    # Create a list of the vectors for the chosen word and the similar words\n",
    "    vectors = [normalized_vectors[chosen_word]] + [normalized_vectors[word] for word in similar_words]\n",
    "    \n",
    "    # Stack them into a 2D array where each row is a word vector\n",
    "    data = np.vstack(vectors)\n",
    "    \n",
    "    # Generate the heatmap\n",
    "    fig, ax = plt.subplots(figsize=(10, len(vectors)))  # Adjust the size as needed\n",
    "    cax = ax.imshow(data, cmap='Greys', aspect='auto')\n",
    "    \n",
    "    # Set the y-axis labels to be the chosen word and the similar words\n",
    "    labels = [chosen_word] + similar_words\n",
    "    ax.set_yticks(np.arange(len(labels)))\n",
    "    ax.set_yticklabels(labels)\n",
    "    \n",
    "    # Remove the x-axis labels\n",
    "    ax.set_xticks([])\n",
    "    \n",
    "    # Add a colorbar to show the scale of the values in the heatmap\n",
    "    plt.colorbar(cax, ax=ax, orientation='vertical', fraction=0.02, pad=0.04)\n",
    "    \n",
    "    # Display the plot\n",
    "    plt.show()\n",
    "\n",
    "# Assuming 'normalized_vectors' is a dictionary mapping words to their normalized vectors\n",
    "# and 'chosen_word' is the word of interest with 'similar_words' being a list of words similar to the chosen_word\n",
    "plot_similarity_heatmap(normalized_vectors, chosen_word, similar_words)\n"
   ]
  },
  {
   "cell_type": "code",
   "execution_count": null,
   "metadata": {},
   "outputs": [],
   "source": []
  }
 ],
 "metadata": {
  "kernelspec": {
   "display_name": "Python 3",
   "language": "python",
   "name": "python3"
  },
  "language_info": {
   "codemirror_mode": {
    "name": "ipython",
    "version": 3
   },
   "file_extension": ".py",
   "mimetype": "text/x-python",
   "name": "python",
   "nbconvert_exporter": "python",
   "pygments_lexer": "ipython3",
   "version": "3.10.9 (main, Jan 28 2023, 21:27:00) [Clang 14.0.0 (clang-1400.0.29.202)]"
  },
  "orig_nbformat": 4,
  "vscode": {
   "interpreter": {
    "hash": "1223e1bb6f70b4e85dab1ecdac04c42cbf45c1eafc17bc1f0f72cf403c1b7f17"
   }
  }
 },
 "nbformat": 4,
 "nbformat_minor": 2
}
